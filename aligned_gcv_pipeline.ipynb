{
 "cells": [
  {
   "cell_type": "code",
   "execution_count": 1,
   "metadata": {},
   "outputs": [],
   "source": [
    "import numpy as np\n",
    "import scipy as sp\n",
    "import helper as h\n",
    "from functools import partial\n",
    "import matplotlib.pyplot as plt\n",
    "import pandas as pd\n",
    "import os\n",
    "\n",
    "import torch\n",
    "import torch.nn as nn\n"
   ]
  },
  {
   "cell_type": "code",
   "execution_count": 2,
   "metadata": {},
   "outputs": [],
   "source": [
    "%reload_ext autoreload\n",
    "%autoreload 2"
   ]
  },
  {
   "cell_type": "markdown",
   "metadata": {},
   "source": [
    "# running pipeline"
   ]
  },
  {
   "cell_type": "code",
   "execution_count": null,
   "metadata": {},
   "outputs": [],
   "source": [
    "n, p = 1000, 1000\n",
    "r, s = 1, 1\n",
    "\n",
    "np.random.seed(0)\n",
    "X_train = h.gaussian_sample(n, p)[0]\n",
    "beta = h.beta_sampler(p, r = np.sqrt(n) * r)\n",
    "# have to rescale to keep distribution the same\n",
    "X_test = np.random.normal(size = (1000, p)) / np.sqrt(n)\n",
    "y_test = X_test @ beta\n",
    "lambdas = np.logspace(-1, 2, 30)\n",
    "\n",
    "results_gaussian = h.gcv_test_pipeline(\n",
    "    X_train = X_train,\n",
    "    y_train = None,\n",
    "    X_test = X_test,\n",
    "    y_test = y_test,\n",
    "    lambdas = lambdas,\n",
    "    r = r,\n",
    "    sigma = s,\n",
    "    k = 0,\n",
    "    true_beta = beta,\n",
    "    n_iters = 10\n",
    ")"
   ]
  },
  {
   "cell_type": "code",
   "execution_count": null,
   "metadata": {},
   "outputs": [],
   "source": [
    "# now write a plotter function\n",
    "# need 5 subplots: actual MSE curves, gcv MSE curves, LOOCV mse curves, new GCV MSE curves, and finally all 4 in 1 plot for 1 noise iteration\n",
    "\n",
    "h.plot_results(results_gaussian, lambdas, 1, filename = \"neurips/gaussian-square.png\")\n",
    "# h.plot_results(results_gaussian, lambdas, 1, )"
   ]
  },
  {
   "cell_type": "code",
   "execution_count": null,
   "metadata": {},
   "outputs": [],
   "source": [
    "h.plot_results(results_gaussian, lambdas, 1, filename = \"neurips/gaussian.png\", square=False)"
   ]
  },
  {
   "cell_type": "code",
   "execution_count": null,
   "metadata": {},
   "outputs": [],
   "source": [
    "n, p = 1000, 1000\n",
    "r, s = 2, 1\n",
    "\n",
    "np.random.seed(0)\n",
    "X_train = h.gaussian_sample(n, p)[0]\n",
    "beta = h.beta_sampler(p, r = np.sqrt(n) * r)\n",
    "# have to rescale to keep distribution the same\n",
    "X_test = np.random.normal(size = (1000, p)) / np.sqrt(n)\n",
    "y_test = X_test @ beta\n",
    "lambdas = np.logspace(-2, 1, 30)\n",
    "\n",
    "results = h.gcv_test_pipeline(\n",
    "    X_train = X_train,\n",
    "    y_train = None,\n",
    "    X_test = X_test,\n",
    "    y_test = y_test,\n",
    "    lambdas = lambdas,\n",
    "    r = r,\n",
    "    sigma = s,\n",
    "    k = 0,\n",
    "    true_beta = beta,\n",
    "    n_iters = 10\n",
    ")"
   ]
  },
  {
   "cell_type": "code",
   "execution_count": null,
   "metadata": {},
   "outputs": [],
   "source": [
    "h.plot_results(results, lambdas, 1, None)"
   ]
  },
  {
   "cell_type": "markdown",
   "metadata": {},
   "source": [
    "### autocorrelated example"
   ]
  },
  {
   "cell_type": "code",
   "execution_count": null,
   "metadata": {},
   "outputs": [],
   "source": [
    "n = 1000\n",
    "p = 1000\n",
    "r = 1\n",
    "s = 1\n",
    "np.random.seed(0)\n",
    "X_train = h.rho_auto_sample(n, p, rho = 0.8)\n",
    "beta = h.beta_sampler(p, r = r * np.sqrt(n))\n",
    "X_test = h.rho_auto_sample(n, p, rho = 0.8)\n",
    "y_test = X_test @ beta\n",
    "lambdas = np.logspace(-1, 2, 30)\n",
    "\n",
    "results_auto = h.gcv_test_pipeline(\n",
    "    X_train = X_train,\n",
    "    y_train = None,\n",
    "    X_test = X_test,\n",
    "    y_test = y_test,\n",
    "    lambdas = lambdas,\n",
    "    r = r,\n",
    "    sigma = s,\n",
    "    k = 0,\n",
    "    true_beta = beta,\n",
    "    n_iters = 10\n",
    ")"
   ]
  },
  {
   "cell_type": "code",
   "execution_count": null,
   "metadata": {},
   "outputs": [],
   "source": [
    "h.plot_results(results_auto, lambdas, 1, \"neurips/auto.png\", square = False)"
   ]
  },
  {
   "cell_type": "markdown",
   "metadata": {},
   "source": [
    "## t distributed"
   ]
  },
  {
   "cell_type": "code",
   "execution_count": null,
   "metadata": {},
   "outputs": [],
   "source": [
    "n = 1000\n",
    "p = 1000\n",
    "r = 1\n",
    "s = 1\n",
    "np.random.seed(0)\n",
    "X_train = h.t_sample(n, p)\n",
    "beta = h.beta_sampler(p, r = r * np.sqrt(n))\n",
    "X_test = h.t_sample(n, p)\n",
    "y_test = X_test @ beta\n",
    "lambdas = np.logspace(-1, 2, 30)\n",
    "\n",
    "results_t = h.gcv_test_pipeline(\n",
    "    X_train = X_train,\n",
    "    y_train = None,\n",
    "    X_test = X_test,\n",
    "    y_test = y_test,\n",
    "    lambdas = lambdas,\n",
    "    r = r,\n",
    "    sigma = s,\n",
    "    k = 0,\n",
    "    true_beta = beta,\n",
    "    n_iters = 10\n",
    ")"
   ]
  },
  {
   "cell_type": "code",
   "execution_count": null,
   "metadata": {},
   "outputs": [],
   "source": []
  },
  {
   "cell_type": "code",
   "execution_count": null,
   "metadata": {},
   "outputs": [],
   "source": [
    "h.plot_results(results_t, lambdas, 1, \"neurips/t.png\", square=False,)"
   ]
  },
  {
   "cell_type": "markdown",
   "metadata": {},
   "source": [
    "### equicorrelated"
   ]
  },
  {
   "cell_type": "code",
   "execution_count": null,
   "metadata": {},
   "outputs": [],
   "source": [
    "n = 1000\n",
    "p = 1000\n",
    "r = 1\n",
    "s = 1\n",
    "np.random.seed(0)\n",
    "X_train = h.latent_base_sample(n, p, rho = 0.8)\n",
    "beta = h.beta_sampler(p, r = r * np.sqrt(n))\n",
    "X_test = h.latent_base_sample(n, p, rho = 0.8) # h.gaussian_sample(n, p)[0]\n",
    "y_test = X_test @ beta\n",
    "lambdas = np.logspace(-1, 2, 30)\n",
    "\n",
    "results_equicorrelated = h.gcv_test_pipeline(\n",
    "    X_train = X_train,\n",
    "    y_train = None,\n",
    "    X_test = X_test,\n",
    "    y_test = y_test,\n",
    "    lambdas = lambdas,\n",
    "    r = r,\n",
    "    sigma = s,\n",
    "    k = 0,\n",
    "    true_beta = beta,\n",
    "    n_iters = 10\n",
    ")"
   ]
  },
  {
   "cell_type": "code",
   "execution_count": null,
   "metadata": {},
   "outputs": [],
   "source": [
    "h.plot_results(results_equicorrelated, lambdas, 1, \"neurips/equi.png\", ylim = [0, 2.0], square=False,)\n"
   ]
  },
  {
   "cell_type": "markdown",
   "metadata": {},
   "source": [
    "# additional experiments"
   ]
  },
  {
   "cell_type": "markdown",
   "metadata": {},
   "source": [
    "## sp500 experiments"
   ]
  },
  {
   "cell_type": "code",
   "execution_count": 84,
   "metadata": {},
   "outputs": [],
   "source": [
    "import pickle\n",
    "\n",
    "with open(\"gcv_train_30.pkl\", \"rb\") as f:\n",
    "    gcv_train = pickle.load(f).to_numpy()\n",
    "\n",
    "with open(\"gcv_test_30.pkl\", \"rb\") as f:\n",
    "    gcv_test = pickle.load(f).to_numpy()"
   ]
  },
  {
   "cell_type": "code",
   "execution_count": null,
   "metadata": {},
   "outputs": [],
   "source": [
    "gcv_train.shape"
   ]
  },
  {
   "cell_type": "code",
   "execution_count": null,
   "metadata": {},
   "outputs": [],
   "source": [
    "gcv_test.shape"
   ]
  },
  {
   "cell_type": "code",
   "execution_count": null,
   "metadata": {},
   "outputs": [],
   "source": [
    "n, p = 493, 493\n",
    "r, s = 1, 1\n",
    "\n",
    "X_train = gcv_train # h.gaussian_sample(n, p)[0]\n",
    "results_array = [None for _ in range(4)]\n",
    "\n",
    "for i in range(4):\n",
    "    np.random.seed(i)\n",
    "    beta = h.beta_sampler(p, r = np.sqrt(n) * r)\n",
    "    # have to rescale to keep distribution the same\n",
    "    X_test = gcv_test # np.random.normal(size = (1000, p)) / np.sqrt(n)\n",
    "    y_test = X_test @ beta\n",
    "    lambdas = np.logspace(-1, 2, 30)\n",
    "\n",
    "    results_array[i] = h.gcv_test_pipeline(\n",
    "        X_train = X_train,\n",
    "        y_train = None,\n",
    "        X_test = X_test,\n",
    "        y_test = y_test,\n",
    "        lambdas = lambdas,\n",
    "        r = r,\n",
    "        sigma = s,\n",
    "        k = 0,\n",
    "        true_beta = beta,\n",
    "        n_iters = 10,\n",
    "        oracle_test=False\n",
    "    )"
   ]
  },
  {
   "cell_type": "code",
   "execution_count": null,
   "metadata": {},
   "outputs": [],
   "source": [
    "h.plot_results_combo(results_array, lambdas, 1, filename = \"neurips/sp500_ensemble.png\")"
   ]
  },
  {
   "cell_type": "code",
   "execution_count": null,
   "metadata": {},
   "outputs": [],
   "source": [
    "h.plot_results_combo(results_array[2:4], lambdas, 1, filename = \"neurips/sp500_ensemble_2of2.png\")"
   ]
  },
  {
   "cell_type": "code",
   "execution_count": null,
   "metadata": {},
   "outputs": [],
   "source": [
    "h.plot_results(results_array[0], lambdas, 1, \"neurips/sp500_single.png\", square=False,)"
   ]
  },
  {
   "cell_type": "markdown",
   "metadata": {},
   "source": [
    "# example with alignment"
   ]
  },
  {
   "cell_type": "code",
   "execution_count": 75,
   "metadata": {},
   "outputs": [],
   "source": [
    "n, p = 1000, 1000\n",
    "k = 10\n",
    "\n",
    "np.random.seed(0)\n",
    "\n",
    "X, Qt, d, O = h.rho_auto_sample(n, p, rho = 0.8, return_svd=True) # already scaled down\n",
    "# print(O[0])\n",
    "D = np.zeros((n, p))\n",
    "np.fill_diagonal(D, d)\n",
    "# D[0, 0] = 40\n",
    "\n",
    "# X = Qt @ D @ O\n",
    "\n",
    "X_tmp, Qt, d, O_unused = h.rho_auto_sample(n, p, rho = 0.8, return_svd = True) # this way don't need to rescale\n",
    "O_new = h.conditional_haar_draw(O, k = k)\n",
    "D_new = np.zeros((n, p))\n",
    "np.fill_diagonal(D_new, d)\n",
    "# D_new[0, 0] = 40\n",
    "\n",
    "X_test = Qt @ D_new @ O_new # X_tmp @ O_unused.T @ O_new # cancels out old and gets new one in\n",
    "\n",
    "beta_unaligned = h.beta_sampler(p, r = 1 * np.sqrt(n))\n",
    "alphas = (np.sqrt(n) * (np.arange(k) + 1) / k)[::-1]\n",
    "beta_aligned = np.zeros(p)\n",
    "for i in range(k):\n",
    "    beta_aligned += alphas[i] * O[i]\n",
    "\n",
    "beta = beta_unaligned + beta_aligned"
   ]
  },
  {
   "cell_type": "code",
   "execution_count": null,
   "metadata": {},
   "outputs": [],
   "source": [
    "np.allclose(O_new[:k], O[:k])"
   ]
  },
  {
   "cell_type": "code",
   "execution_count": null,
   "metadata": {},
   "outputs": [],
   "source": [
    "alphas"
   ]
  },
  {
   "cell_type": "code",
   "execution_count": null,
   "metadata": {},
   "outputs": [],
   "source": [
    "lambdas = np.logspace(-1, 1, 30)\n",
    "result_explicit_align = h.gcv_test_pipeline(\n",
    "    X_train = X,\n",
    "    y_train = None,\n",
    "    X_test = X_test,\n",
    "    true_beta=beta,\n",
    "    y_test = X_test @ beta,\n",
    "    lambdas = lambdas,\n",
    "    r = np.linalg.norm(beta) / np.sqrt(n),\n",
    "    sigma = 1,\n",
    "    k = 10,\n",
    "    n_iters = 10\n",
    ")"
   ]
  },
  {
   "cell_type": "code",
   "execution_count": null,
   "metadata": {},
   "outputs": [],
   "source": [
    "h.plot_results(result_explicit_align, lambdas, 1, \"neurips/aligned-square.png\", ylim = [0, 2.5])"
   ]
  },
  {
   "cell_type": "code",
   "execution_count": null,
   "metadata": {},
   "outputs": [],
   "source": [
    "h.plot_results(result_explicit_align, lambdas, 1, \"neurips/aligned.png\", ylim = [0, 2.5], square=False)"
   ]
  },
  {
   "cell_type": "code",
   "execution_count": null,
   "metadata": {},
   "outputs": [],
   "source": [
    "lambdas = np.logspace(-1, 1, 30)\n",
    "result_explicit_align_nok = h.gcv_test_pipeline(\n",
    "    X_train = X,\n",
    "    y_train = None,\n",
    "    X_test = X_test,\n",
    "    true_beta=beta,\n",
    "    y_test = X_test @ beta,\n",
    "    lambdas = lambdas,\n",
    "    r = np.linalg.norm(beta) / np.sqrt(n),\n",
    "    sigma = 1,\n",
    "    k = 0,\n",
    "    n_iters = 10\n",
    ")"
   ]
  },
  {
   "cell_type": "code",
   "execution_count": null,
   "metadata": {},
   "outputs": [],
   "source": [
    "h.plot_results(result_explicit_align_nok, lambdas, 1, \"neurips/aligned_bad.png\", ylim = [0, 35.5])"
   ]
  },
  {
   "cell_type": "code",
   "execution_count": null,
   "metadata": {},
   "outputs": [],
   "source": []
  },
  {
   "cell_type": "markdown",
   "metadata": {},
   "source": [
    "# gaussian mixture"
   ]
  },
  {
   "cell_type": "code",
   "execution_count": null,
   "metadata": {},
   "outputs": [],
   "source": [
    "n, p = 1000, 1000\n",
    "r, s = 1, 1\n",
    "\n",
    "np.random.seed(0)\n",
    "\n",
    "X_train = h.gaussian_mixture_sample(n, p, mu = 3)[0]\n",
    "beta = h.beta_sampler(p, r = np.sqrt(n) * r)\n",
    "# have to rescale to keep distribution the same\n",
    "X_test = h.gaussian_mixture_sample(n, p, mu = 3)[0]\n",
    "y_test = X_test @ beta\n",
    "lambdas = np.logspace(-1, 1, 30)\n",
    "\n",
    "results = h.gcv_test_pipeline(\n",
    "    X_train = X_train,\n",
    "    y_train = None,\n",
    "    X_test = X_test,\n",
    "    y_test = y_test,\n",
    "    lambdas = lambdas,\n",
    "    r = r,\n",
    "    sigma = s,\n",
    "    k = 10,\n",
    "    true_beta = beta,\n",
    "    n_iters = 10,\n",
    "    oracle_test=False\n",
    ")"
   ]
  },
  {
   "cell_type": "code",
   "execution_count": null,
   "metadata": {},
   "outputs": [],
   "source": [
    "h.plot_results(results, lambdas, 1, \"neurips/mixture.png\", square=False)\n",
    "# h.plot_results(results, lambdas, 1, None)"
   ]
  },
  {
   "cell_type": "code",
   "execution_count": null,
   "metadata": {},
   "outputs": [],
   "source": [
    "n, p = 1000, 1000\n",
    "r, s = 1, 1\n",
    "\n",
    "np.random.seed(0)\n",
    "\n",
    "X_train = h.gaussian_row_corr_sample(n, p, rho = 0.6)[0]\n",
    "beta = h.beta_sampler(p, r = np.sqrt(n) * r)\n",
    "# have to rescale to keep distribution the same\n",
    "X_test = h.gaussian_row_corr_sample(n, p, rho = 0.6)[0]\n",
    "y_test = X_test @ beta\n",
    "lambdas = np.logspace(-1, 1, 30)\n",
    "\n",
    "results_row_equi = h.gcv_test_pipeline(\n",
    "    X_train = X_train,\n",
    "    y_train = None,\n",
    "    X_test = X_test,\n",
    "    y_test = y_test,\n",
    "    lambdas = lambdas,\n",
    "    r = r,\n",
    "    sigma = s,\n",
    "    k = 10,\n",
    "    true_beta = beta,\n",
    "    n_iters = 10,\n",
    "    oracle_test=False\n",
    ")"
   ]
  },
  {
   "cell_type": "code",
   "execution_count": null,
   "metadata": {},
   "outputs": [],
   "source": [
    "h.plot_results(results_row_equi, lambdas, 1, \"neurips/row_equicorrelation.png\", square=False)"
   ]
  },
  {
   "cell_type": "code",
   "execution_count": null,
   "metadata": {},
   "outputs": [],
   "source": [
    "n, p = 1000, 1000\n",
    "r, s = 1, 1\n",
    "\n",
    "X_train = h.gaussian_mixture_sample(n, p, mu = 3)[0]\n",
    "beta = h.beta_sampler(p, r = np.sqrt(n) * r) + np.ones(p) / np.sqrt(p) * 2\n",
    "# have to rescale to keep distribution the same\n",
    "X_test = h.gaussian_mixture_sample(n, p, mu = 3)[0]\n",
    "y_test = X_test @ beta\n",
    "lambdas = np.logspace(-1, 1, 30)\n",
    "\n",
    "results_mixture_spike = h.gcv_test_pipeline(\n",
    "    X_train = X_train,\n",
    "    y_train = None,\n",
    "    X_test = X_test,\n",
    "    y_test = y_test,\n",
    "    lambdas = lambdas,\n",
    "    r = r,\n",
    "    sigma = s,\n",
    "    k = 1,\n",
    "    true_beta = beta,\n",
    "    n_iters = 10\n",
    ")"
   ]
  },
  {
   "cell_type": "code",
   "execution_count": null,
   "metadata": {},
   "outputs": [],
   "source": [
    "h.plot_results(results_mixture_spike, lambdas, 1, \"neurips/mixture_spike.png\")"
   ]
  }
 ],
 "metadata": {
  "kernelspec": {
   "display_name": "thesis",
   "language": "python",
   "name": "python3"
  },
  "language_info": {
   "codemirror_mode": {
    "name": "ipython",
    "version": 3
   },
   "file_extension": ".py",
   "mimetype": "text/x-python",
   "name": "python",
   "nbconvert_exporter": "python",
   "pygments_lexer": "ipython3",
   "version": "3.11.5"
  }
 },
 "nbformat": 4,
 "nbformat_minor": 2
}
